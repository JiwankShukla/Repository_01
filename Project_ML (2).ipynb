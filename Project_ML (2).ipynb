{
  "nbformat": 4,
  "nbformat_minor": 0,
  "metadata": {
    "colab": {
      "name": "Project_ML.ipynb",
      "provenance": []
    },
    "kernelspec": {
      "name": "python3",
      "display_name": "Python 3"
    },
    "language_info": {
      "name": "python"
    }
  },
  "cells": [
    {
      "cell_type": "markdown",
      "metadata": {
        "id": "3rkP06ZOlbq5"
      },
      "source": [
        "#**Data Uploading**"
      ]
    },
    {
      "cell_type": "code",
      "metadata": {
        "id": "5qk6LzNTN76B"
      },
      "source": [
        "#from google.colab import files\n",
        "#uploaded_train = files.upload()"
      ],
      "execution_count": 146,
      "outputs": []
    },
    {
      "cell_type": "code",
      "metadata": {
        "colab": {
          "base_uri": "https://localhost:8080/"
        },
        "id": "xlIXjBtBObd_",
        "outputId": "88729d27-f983-46e1-f3ab-6587eea368ea"
      },
      "source": [
        "for fn in uploaded_train.keys():\n",
        "  print('User uploaded file \"{name}\" with length {length} bytes'.format(name=fn, length=len(uploaded_train[fn])))"
      ],
      "execution_count": 147,
      "outputs": [
        {
          "output_type": "stream",
          "text": [
            "User uploaded file \"Sapfile1.arff\" with length 15825 bytes\n"
          ],
          "name": "stdout"
        }
      ]
    },
    {
      "cell_type": "code",
      "metadata": {
        "colab": {
          "base_uri": "https://localhost:8080/",
          "height": 197
        },
        "id": "aFMtvCspOfgl",
        "outputId": "e58eccbc-e391-42a4-dd9f-2fe01d438b9e"
      },
      "source": [
        "from scipy.io import arff\n",
        "import pandas as pd\n",
        "import io\n",
        "data = arff.loadarff(io.StringIO(uploaded_train['Sapfile1.arff'].decode('utf-8')))\n",
        "df = pd.DataFrame(data[0])\n",
        "\n",
        "df.head()"
      ],
      "execution_count": 148,
      "outputs": [
        {
          "output_type": "execute_result",
          "data": {
            "text/html": [
              "<div>\n",
              "<style scoped>\n",
              "    .dataframe tbody tr th:only-of-type {\n",
              "        vertical-align: middle;\n",
              "    }\n",
              "\n",
              "    .dataframe tbody tr th {\n",
              "        vertical-align: top;\n",
              "    }\n",
              "\n",
              "    .dataframe thead th {\n",
              "        text-align: right;\n",
              "    }\n",
              "</style>\n",
              "<table border=\"1\" class=\"dataframe\">\n",
              "  <thead>\n",
              "    <tr style=\"text-align: right;\">\n",
              "      <th></th>\n",
              "      <th>ge</th>\n",
              "      <th>cst</th>\n",
              "      <th>tnp</th>\n",
              "      <th>twp</th>\n",
              "      <th>iap</th>\n",
              "      <th>esp</th>\n",
              "      <th>arr</th>\n",
              "      <th>ms</th>\n",
              "      <th>ls</th>\n",
              "      <th>as</th>\n",
              "      <th>fmi</th>\n",
              "      <th>fs</th>\n",
              "      <th>fq</th>\n",
              "      <th>mq</th>\n",
              "      <th>fo</th>\n",
              "      <th>mo</th>\n",
              "      <th>nf</th>\n",
              "      <th>sh</th>\n",
              "      <th>ss</th>\n",
              "      <th>me</th>\n",
              "      <th>tt</th>\n",
              "      <th>atd</th>\n",
              "    </tr>\n",
              "  </thead>\n",
              "  <tbody>\n",
              "    <tr>\n",
              "      <th>0</th>\n",
              "      <td>b'F'</td>\n",
              "      <td>b'G'</td>\n",
              "      <td>b'Good'</td>\n",
              "      <td>b'Good'</td>\n",
              "      <td>b'Vg'</td>\n",
              "      <td>b'Good'</td>\n",
              "      <td>b'Y'</td>\n",
              "      <td>b'Unmarried'</td>\n",
              "      <td>b'V'</td>\n",
              "      <td>b'Paid'</td>\n",
              "      <td>b'Medium'</td>\n",
              "      <td>b'Average'</td>\n",
              "      <td>b'Um'</td>\n",
              "      <td>b'10'</td>\n",
              "      <td>b'Farmer'</td>\n",
              "      <td>b'Housewife'</td>\n",
              "      <td>b'Large'</td>\n",
              "      <td>b'Poor'</td>\n",
              "      <td>b'Govt'</td>\n",
              "      <td>b'Asm'</td>\n",
              "      <td>b'Small'</td>\n",
              "      <td>b'Good'</td>\n",
              "    </tr>\n",
              "    <tr>\n",
              "      <th>1</th>\n",
              "      <td>b'M'</td>\n",
              "      <td>b'OBC'</td>\n",
              "      <td>b'Vg'</td>\n",
              "      <td>b'Vg'</td>\n",
              "      <td>b'Vg'</td>\n",
              "      <td>b'Vg'</td>\n",
              "      <td>b'N'</td>\n",
              "      <td>b'Unmarried'</td>\n",
              "      <td>b'V'</td>\n",
              "      <td>b'Paid'</td>\n",
              "      <td>b'Low'</td>\n",
              "      <td>b'Average'</td>\n",
              "      <td>b'Um'</td>\n",
              "      <td>b'Il'</td>\n",
              "      <td>b'Service'</td>\n",
              "      <td>b'Service'</td>\n",
              "      <td>b'Small'</td>\n",
              "      <td>b'Poor'</td>\n",
              "      <td>b'Govt'</td>\n",
              "      <td>b'Asm'</td>\n",
              "      <td>b'Average'</td>\n",
              "      <td>b'Average'</td>\n",
              "    </tr>\n",
              "    <tr>\n",
              "      <th>2</th>\n",
              "      <td>b'F'</td>\n",
              "      <td>b'OBC'</td>\n",
              "      <td>b'Good'</td>\n",
              "      <td>b'Good'</td>\n",
              "      <td>b'Vg'</td>\n",
              "      <td>b'Good'</td>\n",
              "      <td>b'N'</td>\n",
              "      <td>b'Unmarried'</td>\n",
              "      <td>b'V'</td>\n",
              "      <td>b'Paid'</td>\n",
              "      <td>b'Am'</td>\n",
              "      <td>b'Average'</td>\n",
              "      <td>b'12'</td>\n",
              "      <td>b'10'</td>\n",
              "      <td>b'Service'</td>\n",
              "      <td>b'Housewife'</td>\n",
              "      <td>b'Average'</td>\n",
              "      <td>b'Average'</td>\n",
              "      <td>b'Govt'</td>\n",
              "      <td>b'Asm'</td>\n",
              "      <td>b'Large'</td>\n",
              "      <td>b'Good'</td>\n",
              "    </tr>\n",
              "    <tr>\n",
              "      <th>3</th>\n",
              "      <td>b'M'</td>\n",
              "      <td>b'MOBC'</td>\n",
              "      <td>b'Pass'</td>\n",
              "      <td>b'Good'</td>\n",
              "      <td>b'Vg'</td>\n",
              "      <td>b'Good'</td>\n",
              "      <td>b'N'</td>\n",
              "      <td>b'Unmarried'</td>\n",
              "      <td>b'V'</td>\n",
              "      <td>b'Paid'</td>\n",
              "      <td>b'Medium'</td>\n",
              "      <td>b'Small'</td>\n",
              "      <td>b'12'</td>\n",
              "      <td>b'Um'</td>\n",
              "      <td>b'Business'</td>\n",
              "      <td>b'Business'</td>\n",
              "      <td>b'Large'</td>\n",
              "      <td>b'Poor'</td>\n",
              "      <td>b'Govt'</td>\n",
              "      <td>b'Asm'</td>\n",
              "      <td>b'Average'</td>\n",
              "      <td>b'Average'</td>\n",
              "    </tr>\n",
              "    <tr>\n",
              "      <th>4</th>\n",
              "      <td>b'M'</td>\n",
              "      <td>b'G'</td>\n",
              "      <td>b'Good'</td>\n",
              "      <td>b'Good'</td>\n",
              "      <td>b'Vg'</td>\n",
              "      <td>b'Vg'</td>\n",
              "      <td>b'N'</td>\n",
              "      <td>b'Unmarried'</td>\n",
              "      <td>b'V'</td>\n",
              "      <td>b'Paid'</td>\n",
              "      <td>b'Am'</td>\n",
              "      <td>b'Average'</td>\n",
              "      <td>b'10'</td>\n",
              "      <td>b'12'</td>\n",
              "      <td>b'Service'</td>\n",
              "      <td>b'Housewife'</td>\n",
              "      <td>b'Large'</td>\n",
              "      <td>b'Poor'</td>\n",
              "      <td>b'Private'</td>\n",
              "      <td>b'Asm'</td>\n",
              "      <td>b'Small'</td>\n",
              "      <td>b'Good'</td>\n",
              "    </tr>\n",
              "  </tbody>\n",
              "</table>\n",
              "</div>"
            ],
            "text/plain": [
              "     ge      cst      tnp      twp  ...          ss      me          tt         atd\n",
              "0  b'F'     b'G'  b'Good'  b'Good'  ...     b'Govt'  b'Asm'    b'Small'     b'Good'\n",
              "1  b'M'   b'OBC'    b'Vg'    b'Vg'  ...     b'Govt'  b'Asm'  b'Average'  b'Average'\n",
              "2  b'F'   b'OBC'  b'Good'  b'Good'  ...     b'Govt'  b'Asm'    b'Large'     b'Good'\n",
              "3  b'M'  b'MOBC'  b'Pass'  b'Good'  ...     b'Govt'  b'Asm'  b'Average'  b'Average'\n",
              "4  b'M'     b'G'  b'Good'  b'Good'  ...  b'Private'  b'Asm'    b'Small'     b'Good'\n",
              "\n",
              "[5 rows x 22 columns]"
            ]
          },
          "metadata": {
            "tags": []
          },
          "execution_count": 148
        }
      ]
    },
    {
      "cell_type": "code",
      "metadata": {
        "colab": {
          "base_uri": "https://localhost:8080/",
          "height": 197
        },
        "id": "G-oASBC7SBJY",
        "outputId": "47470c84-870d-4f1c-ed34-e29506adb8b4"
      },
      "source": [
        "for col in df:\n",
        "    if col == \"Result\":\n",
        "        temp = list(map(lambda x: int(x.decode('UTF-8')),df[col]))\n",
        "        df[col] = temp\n",
        "    else:\n",
        "        temp = list(map(lambda x: x.decode('UTF-8'),df[col]))\n",
        "        df[col] = temp\n",
        "        df[col] = pd.Categorical(df[col])\n",
        "\n",
        "df.head()"
      ],
      "execution_count": 149,
      "outputs": [
        {
          "output_type": "execute_result",
          "data": {
            "text/html": [
              "<div>\n",
              "<style scoped>\n",
              "    .dataframe tbody tr th:only-of-type {\n",
              "        vertical-align: middle;\n",
              "    }\n",
              "\n",
              "    .dataframe tbody tr th {\n",
              "        vertical-align: top;\n",
              "    }\n",
              "\n",
              "    .dataframe thead th {\n",
              "        text-align: right;\n",
              "    }\n",
              "</style>\n",
              "<table border=\"1\" class=\"dataframe\">\n",
              "  <thead>\n",
              "    <tr style=\"text-align: right;\">\n",
              "      <th></th>\n",
              "      <th>ge</th>\n",
              "      <th>cst</th>\n",
              "      <th>tnp</th>\n",
              "      <th>twp</th>\n",
              "      <th>iap</th>\n",
              "      <th>esp</th>\n",
              "      <th>arr</th>\n",
              "      <th>ms</th>\n",
              "      <th>ls</th>\n",
              "      <th>as</th>\n",
              "      <th>fmi</th>\n",
              "      <th>fs</th>\n",
              "      <th>fq</th>\n",
              "      <th>mq</th>\n",
              "      <th>fo</th>\n",
              "      <th>mo</th>\n",
              "      <th>nf</th>\n",
              "      <th>sh</th>\n",
              "      <th>ss</th>\n",
              "      <th>me</th>\n",
              "      <th>tt</th>\n",
              "      <th>atd</th>\n",
              "    </tr>\n",
              "  </thead>\n",
              "  <tbody>\n",
              "    <tr>\n",
              "      <th>0</th>\n",
              "      <td>F</td>\n",
              "      <td>G</td>\n",
              "      <td>Good</td>\n",
              "      <td>Good</td>\n",
              "      <td>Vg</td>\n",
              "      <td>Good</td>\n",
              "      <td>Y</td>\n",
              "      <td>Unmarried</td>\n",
              "      <td>V</td>\n",
              "      <td>Paid</td>\n",
              "      <td>Medium</td>\n",
              "      <td>Average</td>\n",
              "      <td>Um</td>\n",
              "      <td>10</td>\n",
              "      <td>Farmer</td>\n",
              "      <td>Housewife</td>\n",
              "      <td>Large</td>\n",
              "      <td>Poor</td>\n",
              "      <td>Govt</td>\n",
              "      <td>Asm</td>\n",
              "      <td>Small</td>\n",
              "      <td>Good</td>\n",
              "    </tr>\n",
              "    <tr>\n",
              "      <th>1</th>\n",
              "      <td>M</td>\n",
              "      <td>OBC</td>\n",
              "      <td>Vg</td>\n",
              "      <td>Vg</td>\n",
              "      <td>Vg</td>\n",
              "      <td>Vg</td>\n",
              "      <td>N</td>\n",
              "      <td>Unmarried</td>\n",
              "      <td>V</td>\n",
              "      <td>Paid</td>\n",
              "      <td>Low</td>\n",
              "      <td>Average</td>\n",
              "      <td>Um</td>\n",
              "      <td>Il</td>\n",
              "      <td>Service</td>\n",
              "      <td>Service</td>\n",
              "      <td>Small</td>\n",
              "      <td>Poor</td>\n",
              "      <td>Govt</td>\n",
              "      <td>Asm</td>\n",
              "      <td>Average</td>\n",
              "      <td>Average</td>\n",
              "    </tr>\n",
              "    <tr>\n",
              "      <th>2</th>\n",
              "      <td>F</td>\n",
              "      <td>OBC</td>\n",
              "      <td>Good</td>\n",
              "      <td>Good</td>\n",
              "      <td>Vg</td>\n",
              "      <td>Good</td>\n",
              "      <td>N</td>\n",
              "      <td>Unmarried</td>\n",
              "      <td>V</td>\n",
              "      <td>Paid</td>\n",
              "      <td>Am</td>\n",
              "      <td>Average</td>\n",
              "      <td>12</td>\n",
              "      <td>10</td>\n",
              "      <td>Service</td>\n",
              "      <td>Housewife</td>\n",
              "      <td>Average</td>\n",
              "      <td>Average</td>\n",
              "      <td>Govt</td>\n",
              "      <td>Asm</td>\n",
              "      <td>Large</td>\n",
              "      <td>Good</td>\n",
              "    </tr>\n",
              "    <tr>\n",
              "      <th>3</th>\n",
              "      <td>M</td>\n",
              "      <td>MOBC</td>\n",
              "      <td>Pass</td>\n",
              "      <td>Good</td>\n",
              "      <td>Vg</td>\n",
              "      <td>Good</td>\n",
              "      <td>N</td>\n",
              "      <td>Unmarried</td>\n",
              "      <td>V</td>\n",
              "      <td>Paid</td>\n",
              "      <td>Medium</td>\n",
              "      <td>Small</td>\n",
              "      <td>12</td>\n",
              "      <td>Um</td>\n",
              "      <td>Business</td>\n",
              "      <td>Business</td>\n",
              "      <td>Large</td>\n",
              "      <td>Poor</td>\n",
              "      <td>Govt</td>\n",
              "      <td>Asm</td>\n",
              "      <td>Average</td>\n",
              "      <td>Average</td>\n",
              "    </tr>\n",
              "    <tr>\n",
              "      <th>4</th>\n",
              "      <td>M</td>\n",
              "      <td>G</td>\n",
              "      <td>Good</td>\n",
              "      <td>Good</td>\n",
              "      <td>Vg</td>\n",
              "      <td>Vg</td>\n",
              "      <td>N</td>\n",
              "      <td>Unmarried</td>\n",
              "      <td>V</td>\n",
              "      <td>Paid</td>\n",
              "      <td>Am</td>\n",
              "      <td>Average</td>\n",
              "      <td>10</td>\n",
              "      <td>12</td>\n",
              "      <td>Service</td>\n",
              "      <td>Housewife</td>\n",
              "      <td>Large</td>\n",
              "      <td>Poor</td>\n",
              "      <td>Private</td>\n",
              "      <td>Asm</td>\n",
              "      <td>Small</td>\n",
              "      <td>Good</td>\n",
              "    </tr>\n",
              "  </tbody>\n",
              "</table>\n",
              "</div>"
            ],
            "text/plain": [
              "  ge   cst   tnp   twp iap  ...       sh       ss   me       tt      atd\n",
              "0  F     G  Good  Good  Vg  ...     Poor     Govt  Asm    Small     Good\n",
              "1  M   OBC    Vg    Vg  Vg  ...     Poor     Govt  Asm  Average  Average\n",
              "2  F   OBC  Good  Good  Vg  ...  Average     Govt  Asm    Large     Good\n",
              "3  M  MOBC  Pass  Good  Vg  ...     Poor     Govt  Asm  Average  Average\n",
              "4  M     G  Good  Good  Vg  ...     Poor  Private  Asm    Small     Good\n",
              "\n",
              "[5 rows x 22 columns]"
            ]
          },
          "metadata": {
            "tags": []
          },
          "execution_count": 149
        }
      ]
    },
    {
      "cell_type": "markdown",
      "metadata": {
        "id": "QnL9JfXIkYCQ"
      },
      "source": [
        "#**Preprocessing**"
      ]
    },
    {
      "cell_type": "code",
      "metadata": {
        "colab": {
          "base_uri": "https://localhost:8080/"
        },
        "id": "C-ZUkNEFLFS7",
        "outputId": "7c0c9063-da96-4d54-8e16-6fdec1ff1a33"
      },
      "source": [
        "df.info()"
      ],
      "execution_count": 150,
      "outputs": [
        {
          "output_type": "stream",
          "text": [
            "<class 'pandas.core.frame.DataFrame'>\n",
            "RangeIndex: 131 entries, 0 to 130\n",
            "Data columns (total 22 columns):\n",
            " #   Column  Non-Null Count  Dtype   \n",
            "---  ------  --------------  -----   \n",
            " 0   ge      131 non-null    category\n",
            " 1   cst     131 non-null    category\n",
            " 2   tnp     131 non-null    category\n",
            " 3   twp     131 non-null    category\n",
            " 4   iap     131 non-null    category\n",
            " 5   esp     131 non-null    category\n",
            " 6   arr     131 non-null    category\n",
            " 7   ms      131 non-null    category\n",
            " 8   ls      131 non-null    category\n",
            " 9   as      131 non-null    category\n",
            " 10  fmi     131 non-null    category\n",
            " 11  fs      131 non-null    category\n",
            " 12  fq      131 non-null    category\n",
            " 13  mq      131 non-null    category\n",
            " 14  fo      131 non-null    category\n",
            " 15  mo      131 non-null    category\n",
            " 16  nf      131 non-null    category\n",
            " 17  sh      131 non-null    category\n",
            " 18  ss      131 non-null    category\n",
            " 19  me      131 non-null    category\n",
            " 20  tt      131 non-null    category\n",
            " 21  atd     131 non-null    category\n",
            "dtypes: category(22)\n",
            "memory usage: 6.1 KB\n"
          ],
          "name": "stdout"
        }
      ]
    },
    {
      "cell_type": "code",
      "metadata": {
        "colab": {
          "base_uri": "https://localhost:8080/"
        },
        "id": "dEYnQV-rMP76",
        "outputId": "d6634137-6df1-4c73-983b-34661f13b013"
      },
      "source": [
        "import numpy as np\n",
        "np.unique(df['esp'])\n",
        "df['esp'].value_counts()"
      ],
      "execution_count": 151,
      "outputs": [
        {
          "output_type": "execute_result",
          "data": {
            "text/plain": [
              "Good    54\n",
              "Vg      42\n",
              "Pass    27\n",
              "Best     8\n",
              "Name: esp, dtype: int64"
            ]
          },
          "metadata": {
            "tags": []
          },
          "execution_count": 151
        }
      ]
    },
    {
      "cell_type": "code",
      "metadata": {
        "id": "9EZnnRNqLY_6"
      },
      "source": [
        "from sklearn.preprocessing import LabelEncoder\n",
        "le = LabelEncoder()\n",
        "le.fit(df[\"esp\"])\n",
        "y = le.transform(df[\"esp\"])"
      ],
      "execution_count": 152,
      "outputs": []
    },
    {
      "cell_type": "code",
      "metadata": {
        "colab": {
          "base_uri": "https://localhost:8080/"
        },
        "id": "nbrLe6dVMGNc",
        "outputId": "31c087a2-f8ad-4bd2-c78b-ab6438613892"
      },
      "source": [
        "y.shape"
      ],
      "execution_count": 153,
      "outputs": [
        {
          "output_type": "execute_result",
          "data": {
            "text/plain": [
              "(131,)"
            ]
          },
          "metadata": {
            "tags": []
          },
          "execution_count": 153
        }
      ]
    },
    {
      "cell_type": "code",
      "metadata": {
        "colab": {
          "base_uri": "https://localhost:8080/"
        },
        "id": "qvh4FEUSMIca",
        "outputId": "1a8d59d5-9be0-4bb8-f300-bed615e93708"
      },
      "source": [
        "print(\" number of Best class \",(y==0).sum())\n",
        "print(\" number of Good class \",(y==1).sum())\n",
        "print(\" number of pass class \",(y==2).sum())\n",
        "print(\" number of very good class \",(y==3).sum())\n",
        "print(np.unique(df['esp']))"
      ],
      "execution_count": 154,
      "outputs": [
        {
          "output_type": "stream",
          "text": [
            " number of Best class  8\n",
            " number of Good class  54\n",
            " number of pass class  27\n",
            " number of very good class  42\n",
            "['Best' 'Good' 'Pass' 'Vg']\n"
          ],
          "name": "stdout"
        }
      ]
    },
    {
      "cell_type": "code",
      "metadata": {
        "colab": {
          "base_uri": "https://localhost:8080/",
          "height": 197
        },
        "id": "yY5pDDH0NmQb",
        "outputId": "b1f9576f-a333-4594-8b9a-7424498e4aeb"
      },
      "source": [
        "df.drop(columns=[\"esp\"],inplace=True)\n",
        "df.head(5)"
      ],
      "execution_count": 155,
      "outputs": [
        {
          "output_type": "execute_result",
          "data": {
            "text/html": [
              "<div>\n",
              "<style scoped>\n",
              "    .dataframe tbody tr th:only-of-type {\n",
              "        vertical-align: middle;\n",
              "    }\n",
              "\n",
              "    .dataframe tbody tr th {\n",
              "        vertical-align: top;\n",
              "    }\n",
              "\n",
              "    .dataframe thead th {\n",
              "        text-align: right;\n",
              "    }\n",
              "</style>\n",
              "<table border=\"1\" class=\"dataframe\">\n",
              "  <thead>\n",
              "    <tr style=\"text-align: right;\">\n",
              "      <th></th>\n",
              "      <th>ge</th>\n",
              "      <th>cst</th>\n",
              "      <th>tnp</th>\n",
              "      <th>twp</th>\n",
              "      <th>iap</th>\n",
              "      <th>arr</th>\n",
              "      <th>ms</th>\n",
              "      <th>ls</th>\n",
              "      <th>as</th>\n",
              "      <th>fmi</th>\n",
              "      <th>fs</th>\n",
              "      <th>fq</th>\n",
              "      <th>mq</th>\n",
              "      <th>fo</th>\n",
              "      <th>mo</th>\n",
              "      <th>nf</th>\n",
              "      <th>sh</th>\n",
              "      <th>ss</th>\n",
              "      <th>me</th>\n",
              "      <th>tt</th>\n",
              "      <th>atd</th>\n",
              "    </tr>\n",
              "  </thead>\n",
              "  <tbody>\n",
              "    <tr>\n",
              "      <th>0</th>\n",
              "      <td>F</td>\n",
              "      <td>G</td>\n",
              "      <td>Good</td>\n",
              "      <td>Good</td>\n",
              "      <td>Vg</td>\n",
              "      <td>Y</td>\n",
              "      <td>Unmarried</td>\n",
              "      <td>V</td>\n",
              "      <td>Paid</td>\n",
              "      <td>Medium</td>\n",
              "      <td>Average</td>\n",
              "      <td>Um</td>\n",
              "      <td>10</td>\n",
              "      <td>Farmer</td>\n",
              "      <td>Housewife</td>\n",
              "      <td>Large</td>\n",
              "      <td>Poor</td>\n",
              "      <td>Govt</td>\n",
              "      <td>Asm</td>\n",
              "      <td>Small</td>\n",
              "      <td>Good</td>\n",
              "    </tr>\n",
              "    <tr>\n",
              "      <th>1</th>\n",
              "      <td>M</td>\n",
              "      <td>OBC</td>\n",
              "      <td>Vg</td>\n",
              "      <td>Vg</td>\n",
              "      <td>Vg</td>\n",
              "      <td>N</td>\n",
              "      <td>Unmarried</td>\n",
              "      <td>V</td>\n",
              "      <td>Paid</td>\n",
              "      <td>Low</td>\n",
              "      <td>Average</td>\n",
              "      <td>Um</td>\n",
              "      <td>Il</td>\n",
              "      <td>Service</td>\n",
              "      <td>Service</td>\n",
              "      <td>Small</td>\n",
              "      <td>Poor</td>\n",
              "      <td>Govt</td>\n",
              "      <td>Asm</td>\n",
              "      <td>Average</td>\n",
              "      <td>Average</td>\n",
              "    </tr>\n",
              "    <tr>\n",
              "      <th>2</th>\n",
              "      <td>F</td>\n",
              "      <td>OBC</td>\n",
              "      <td>Good</td>\n",
              "      <td>Good</td>\n",
              "      <td>Vg</td>\n",
              "      <td>N</td>\n",
              "      <td>Unmarried</td>\n",
              "      <td>V</td>\n",
              "      <td>Paid</td>\n",
              "      <td>Am</td>\n",
              "      <td>Average</td>\n",
              "      <td>12</td>\n",
              "      <td>10</td>\n",
              "      <td>Service</td>\n",
              "      <td>Housewife</td>\n",
              "      <td>Average</td>\n",
              "      <td>Average</td>\n",
              "      <td>Govt</td>\n",
              "      <td>Asm</td>\n",
              "      <td>Large</td>\n",
              "      <td>Good</td>\n",
              "    </tr>\n",
              "    <tr>\n",
              "      <th>3</th>\n",
              "      <td>M</td>\n",
              "      <td>MOBC</td>\n",
              "      <td>Pass</td>\n",
              "      <td>Good</td>\n",
              "      <td>Vg</td>\n",
              "      <td>N</td>\n",
              "      <td>Unmarried</td>\n",
              "      <td>V</td>\n",
              "      <td>Paid</td>\n",
              "      <td>Medium</td>\n",
              "      <td>Small</td>\n",
              "      <td>12</td>\n",
              "      <td>Um</td>\n",
              "      <td>Business</td>\n",
              "      <td>Business</td>\n",
              "      <td>Large</td>\n",
              "      <td>Poor</td>\n",
              "      <td>Govt</td>\n",
              "      <td>Asm</td>\n",
              "      <td>Average</td>\n",
              "      <td>Average</td>\n",
              "    </tr>\n",
              "    <tr>\n",
              "      <th>4</th>\n",
              "      <td>M</td>\n",
              "      <td>G</td>\n",
              "      <td>Good</td>\n",
              "      <td>Good</td>\n",
              "      <td>Vg</td>\n",
              "      <td>N</td>\n",
              "      <td>Unmarried</td>\n",
              "      <td>V</td>\n",
              "      <td>Paid</td>\n",
              "      <td>Am</td>\n",
              "      <td>Average</td>\n",
              "      <td>10</td>\n",
              "      <td>12</td>\n",
              "      <td>Service</td>\n",
              "      <td>Housewife</td>\n",
              "      <td>Large</td>\n",
              "      <td>Poor</td>\n",
              "      <td>Private</td>\n",
              "      <td>Asm</td>\n",
              "      <td>Small</td>\n",
              "      <td>Good</td>\n",
              "    </tr>\n",
              "  </tbody>\n",
              "</table>\n",
              "</div>"
            ],
            "text/plain": [
              "  ge   cst   tnp   twp iap  ...       sh       ss   me       tt      atd\n",
              "0  F     G  Good  Good  Vg  ...     Poor     Govt  Asm    Small     Good\n",
              "1  M   OBC    Vg    Vg  Vg  ...     Poor     Govt  Asm  Average  Average\n",
              "2  F   OBC  Good  Good  Vg  ...  Average     Govt  Asm    Large     Good\n",
              "3  M  MOBC  Pass  Good  Vg  ...     Poor     Govt  Asm  Average  Average\n",
              "4  M     G  Good  Good  Vg  ...     Poor  Private  Asm    Small     Good\n",
              "\n",
              "[5 rows x 21 columns]"
            ]
          },
          "metadata": {
            "tags": []
          },
          "execution_count": 155
        }
      ]
    },
    {
      "cell_type": "code",
      "metadata": {
        "colab": {
          "base_uri": "https://localhost:8080/",
          "height": 497
        },
        "id": "rPApm983NuTa",
        "outputId": "ae0e7844-06e4-4e67-dc0f-8c61bbebd445"
      },
      "source": [
        "import matplotlib.pyplot as plt\n",
        "import seaborn as sns\n",
        "fig, ax =plt.subplots(1,7,figsize=(27,7))\n",
        "sns.countplot(df['ge'], ax=ax[0])\n",
        "sns.countplot(df['cst'], ax=ax[1])\n",
        "sns.countplot(df['tnp'], ax=ax[2])\n",
        "sns.countplot(df['twp'], ax=ax[3])\n",
        "sns.countplot(df['iap'], ax=ax[4])\n",
        "sns.countplot(df['arr'], ax=ax[5])\n",
        "sns.countplot(df['ms'], ax=ax[6])\n",
        "fig.show()"
      ],
      "execution_count": 156,
      "outputs": [
        {
          "output_type": "stream",
          "text": [
            "/usr/local/lib/python3.7/dist-packages/seaborn/_decorators.py:43: FutureWarning: Pass the following variable as a keyword arg: x. From version 0.12, the only valid positional argument will be `data`, and passing other arguments without an explicit keyword will result in an error or misinterpretation.\n",
            "  FutureWarning\n"
          ],
          "name": "stderr"
        },
        {
          "output_type": "display_data",
          "data": {
            "image/png": "[encoded data removed]",
            "text/plain": [
              "<Figure size 1944x504 with 7 Axes>"
            ]
          },
          "metadata": {
            "tags": [],
            "needs_background": "light"
          }
        }
      ]
    },
    {
      "cell_type": "code",
      "metadata": {
        "colab": {
          "base_uri": "https://localhost:8080/",
          "height": 497
        },
        "id": "yqK3v-jFDEFD",
        "outputId": "c0e4dc4e-146d-44d7-ba02-7a1374ea2f36"
      },
      "source": [
        "fig, ax =plt.subplots(1,7,figsize=(27,7))\n",
        "sns.countplot(df['ls'], ax=ax[0])\n",
        "sns.countplot(df['as'], ax=ax[1])\n",
        "sns.countplot(df['fmi'], ax=ax[2])\n",
        "sns.countplot(df['fs'], ax=ax[3])\n",
        "sns.countplot(df['fq'], ax=ax[4])\n",
        "sns.countplot(df['mq'], ax=ax[5])\n",
        "sns.countplot(df['fo'], ax=ax[6])\n",
        "fig.show()"
      ],
      "execution_count": 157,
      "outputs": [
        {
          "output_type": "stream",
          "text": [
            "/usr/local/lib/python3.7/dist-packages/seaborn/_decorators.py:43: FutureWarning: Pass the following variable as a keyword arg: x. From version 0.12, the only valid positional argument will be `data`, and passing other arguments without an explicit keyword will result in an error or misinterpretation.\n",
            "  FutureWarning\n"
          ],
          "name": "stderr"
        },
        {
          "output_type": "display_data",
          "data": {
            "image/png": "[encoded data removed]",
            "text/plain": [
              "<Figure size 1944x504 with 7 Axes>"
            ]
          },
          "metadata": {
            "tags": [],
            "needs_background": "light"
          }
        }
      ]
    },
    {
      "cell_type": "code",
      "metadata": {
        "colab": {
          "base_uri": "https://localhost:8080/",
          "height": 500
        },
        "id": "nIbG2087DXq9",
        "outputId": "508a0966-6b51-4f91-aa11-65e5ff958ae2"
      },
      "source": [
        "fig, ax =plt.subplots(1,7,figsize=(27,7))\n",
        "sns.countplot(df['mo'], ax=ax[0], )\n",
        "sns.countplot(df['nf'], ax=ax[1])\n",
        "sns.countplot(df['sh'], ax=ax[2])\n",
        "sns.countplot(df['ss'], ax=ax[3])\n",
        "sns.countplot(df['me'], ax=ax[4])\n",
        "sns.countplot(df['tt'], ax=ax[5])\n",
        "sns.countplot(df['atd'], ax=ax[6])\n",
        "fig.show()"
      ],
      "execution_count": 158,
      "outputs": [
        {
          "output_type": "stream",
          "text": [
            "/usr/local/lib/python3.7/dist-packages/seaborn/_decorators.py:43: FutureWarning: Pass the following variable as a keyword arg: x. From version 0.12, the only valid positional argument will be `data`, and passing other arguments without an explicit keyword will result in an error or misinterpretation.\n",
            "  FutureWarning\n"
          ],
          "name": "stderr"
        },
        {
          "output_type": "display_data",
          "data": {
            "image/png": "[encoded data removed]",
            "text/plain": [
              "<Figure size 1944x504 with 7 Axes>"
            ]
          },
          "metadata": {
            "tags": [],
            "needs_background": "light"
          }
        }
      ]
    },
    {
      "cell_type": "code",
      "metadata": {
        "id": "baaKqHPkOiwz"
      },
      "source": [
        "from sklearn.preprocessing import OneHotEncoder\n",
        "def encoding(df,col):\n",
        "  oh = OneHotEncoder(drop = 'first')\n",
        "  out_val=oh.fit_transform(df[[col]]).toarray()\n",
        "  out_feature = oh.get_feature_names([col])\n",
        "  df_new = pd.DataFrame(out_val,columns=[out_feature])\n",
        "  df_final = pd.concat([df,df_new,],axis=1)\n",
        "  df_final.drop(columns =[col],inplace=True)\n",
        "  return df_final"
      ],
      "execution_count": 159,
      "outputs": []
    },
    {
      "cell_type": "code",
      "metadata": {
        "colab": {
          "base_uri": "https://localhost:8080/"
        },
        "id": "mFTHd2-NOs3I",
        "outputId": "c1a8ae13-5ccc-47a2-88f6-13042f38a058"
      },
      "source": [
        "cols = df.columns\n",
        "cols"
      ],
      "execution_count": 160,
      "outputs": [
        {
          "output_type": "execute_result",
          "data": {
            "text/plain": [
              "Index(['ge', 'cst', 'tnp', 'twp', 'iap', 'arr', 'ms', 'ls', 'as', 'fmi', 'fs',\n",
              "       'fq', 'mq', 'fo', 'mo', 'nf', 'sh', 'ss', 'me', 'tt', 'atd'],\n",
              "      dtype='object')"
            ]
          },
          "metadata": {
            "tags": []
          },
          "execution_count": 160
        }
      ]
    },
    {
      "cell_type": "code",
      "metadata": {
        "colab": {
          "base_uri": "https://localhost:8080/"
        },
        "id": "WTnVV7P4V4Jj",
        "outputId": "ab6eb317-7476-4908-cb02-fe50ab2de1b3"
      },
      "source": [
        "temp = df['cst'].values\n",
        "temp"
      ],
      "execution_count": 161,
      "outputs": [
        {
          "output_type": "execute_result",
          "data": {
            "text/plain": [
              "['G', 'OBC', 'OBC', 'MOBC', 'G', ..., 'G', 'MOBC', 'OBC', 'ST', 'G']\n",
              "Length: 131\n",
              "Categories (5, object): ['G', 'MOBC', 'OBC', 'SC', 'ST']"
            ]
          },
          "metadata": {
            "tags": []
          },
          "execution_count": 161
        }
      ]
    },
    {
      "cell_type": "code",
      "metadata": {
        "id": "wMLG9YqzOvLq"
      },
      "source": [
        "for col in cols:\n",
        "  df = encoding(df,col)\n"
      ],
      "execution_count": 162,
      "outputs": []
    },
    {
      "cell_type": "code",
      "metadata": {
        "colab": {
          "base_uri": "https://localhost:8080/",
          "height": 217
        },
        "id": "HscBR9GOXG-y",
        "outputId": "edb6225e-545a-4154-a8b6-ac5fcffd9f4d"
      },
      "source": [
        "df.head(5)"
      ],
      "execution_count": 163,
      "outputs": [
        {
          "output_type": "execute_result",
          "data": {
            "text/html": [
              "<div>\n",
              "<style scoped>\n",
              "    .dataframe tbody tr th:only-of-type {\n",
              "        vertical-align: middle;\n",
              "    }\n",
              "\n",
              "    .dataframe tbody tr th {\n",
              "        vertical-align: top;\n",
              "    }\n",
              "\n",
              "    .dataframe thead th {\n",
              "        text-align: right;\n",
              "    }\n",
              "</style>\n",
              "<table border=\"1\" class=\"dataframe\">\n",
              "  <thead>\n",
              "    <tr style=\"text-align: right;\">\n",
              "      <th></th>\n",
              "      <th>(ge_M,)</th>\n",
              "      <th>(cst_MOBC,)</th>\n",
              "      <th>(cst_OBC,)</th>\n",
              "      <th>(cst_SC,)</th>\n",
              "      <th>(cst_ST,)</th>\n",
              "      <th>(tnp_Good,)</th>\n",
              "      <th>(tnp_Pass,)</th>\n",
              "      <th>(tnp_Vg,)</th>\n",
              "      <th>(twp_Good,)</th>\n",
              "      <th>(twp_Pass,)</th>\n",
              "      <th>(twp_Vg,)</th>\n",
              "      <th>(iap_Good,)</th>\n",
              "      <th>(iap_Pass,)</th>\n",
              "      <th>(iap_Vg,)</th>\n",
              "      <th>(arr_Y,)</th>\n",
              "      <th>(ls_V,)</th>\n",
              "      <th>(as_Paid,)</th>\n",
              "      <th>(fmi_High,)</th>\n",
              "      <th>(fmi_Low,)</th>\n",
              "      <th>(fmi_Medium,)</th>\n",
              "      <th>(fmi_Vh,)</th>\n",
              "      <th>(fs_Large,)</th>\n",
              "      <th>(fs_Small,)</th>\n",
              "      <th>(fq_12,)</th>\n",
              "      <th>(fq_Degree,)</th>\n",
              "      <th>(fq_Il,)</th>\n",
              "      <th>(fq_Pg,)</th>\n",
              "      <th>(fq_Um,)</th>\n",
              "      <th>(mq_12,)</th>\n",
              "      <th>(mq_Degree,)</th>\n",
              "      <th>(mq_Il,)</th>\n",
              "      <th>(mq_Pg,)</th>\n",
              "      <th>(mq_Um,)</th>\n",
              "      <th>(fo_Farmer,)</th>\n",
              "      <th>(fo_Others,)</th>\n",
              "      <th>(fo_Retired,)</th>\n",
              "      <th>(fo_Service,)</th>\n",
              "      <th>(mo_Housewife,)</th>\n",
              "      <th>(mo_Others,)</th>\n",
              "      <th>(mo_Retired,)</th>\n",
              "      <th>(mo_Service,)</th>\n",
              "      <th>(nf_Large,)</th>\n",
              "      <th>(nf_Small,)</th>\n",
              "      <th>(sh_Good,)</th>\n",
              "      <th>(sh_Poor,)</th>\n",
              "      <th>(ss_Private,)</th>\n",
              "      <th>(me_Ben,)</th>\n",
              "      <th>(me_Eng,)</th>\n",
              "      <th>(me_Hin,)</th>\n",
              "      <th>(tt_Large,)</th>\n",
              "      <th>(tt_Small,)</th>\n",
              "      <th>(atd_Good,)</th>\n",
              "      <th>(atd_Poor,)</th>\n",
              "    </tr>\n",
              "  </thead>\n",
              "  <tbody>\n",
              "    <tr>\n",
              "      <th>0</th>\n",
              "      <td>0.0</td>\n",
              "      <td>0.0</td>\n",
              "      <td>0.0</td>\n",
              "      <td>0.0</td>\n",
              "      <td>0.0</td>\n",
              "      <td>1.0</td>\n",
              "      <td>0.0</td>\n",
              "      <td>0.0</td>\n",
              "      <td>1.0</td>\n",
              "      <td>0.0</td>\n",
              "      <td>0.0</td>\n",
              "      <td>0.0</td>\n",
              "      <td>0.0</td>\n",
              "      <td>1.0</td>\n",
              "      <td>1.0</td>\n",
              "      <td>1.0</td>\n",
              "      <td>1.0</td>\n",
              "      <td>0.0</td>\n",
              "      <td>0.0</td>\n",
              "      <td>1.0</td>\n",
              "      <td>0.0</td>\n",
              "      <td>0.0</td>\n",
              "      <td>0.0</td>\n",
              "      <td>0.0</td>\n",
              "      <td>0.0</td>\n",
              "      <td>0.0</td>\n",
              "      <td>0.0</td>\n",
              "      <td>1.0</td>\n",
              "      <td>0.0</td>\n",
              "      <td>0.0</td>\n",
              "      <td>0.0</td>\n",
              "      <td>0.0</td>\n",
              "      <td>0.0</td>\n",
              "      <td>1.0</td>\n",
              "      <td>0.0</td>\n",
              "      <td>0.0</td>\n",
              "      <td>0.0</td>\n",
              "      <td>1.0</td>\n",
              "      <td>0.0</td>\n",
              "      <td>0.0</td>\n",
              "      <td>0.0</td>\n",
              "      <td>1.0</td>\n",
              "      <td>0.0</td>\n",
              "      <td>0.0</td>\n",
              "      <td>1.0</td>\n",
              "      <td>0.0</td>\n",
              "      <td>0.0</td>\n",
              "      <td>0.0</td>\n",
              "      <td>0.0</td>\n",
              "      <td>0.0</td>\n",
              "      <td>1.0</td>\n",
              "      <td>1.0</td>\n",
              "      <td>0.0</td>\n",
              "    </tr>\n",
              "    <tr>\n",
              "      <th>1</th>\n",
              "      <td>1.0</td>\n",
              "      <td>0.0</td>\n",
              "      <td>1.0</td>\n",
              "      <td>0.0</td>\n",
              "      <td>0.0</td>\n",
              "      <td>0.0</td>\n",
              "      <td>0.0</td>\n",
              "      <td>1.0</td>\n",
              "      <td>0.0</td>\n",
              "      <td>0.0</td>\n",
              "      <td>1.0</td>\n",
              "      <td>0.0</td>\n",
              "      <td>0.0</td>\n",
              "      <td>1.0</td>\n",
              "      <td>0.0</td>\n",
              "      <td>1.0</td>\n",
              "      <td>1.0</td>\n",
              "      <td>0.0</td>\n",
              "      <td>1.0</td>\n",
              "      <td>0.0</td>\n",
              "      <td>0.0</td>\n",
              "      <td>0.0</td>\n",
              "      <td>0.0</td>\n",
              "      <td>0.0</td>\n",
              "      <td>0.0</td>\n",
              "      <td>0.0</td>\n",
              "      <td>0.0</td>\n",
              "      <td>1.0</td>\n",
              "      <td>0.0</td>\n",
              "      <td>0.0</td>\n",
              "      <td>1.0</td>\n",
              "      <td>0.0</td>\n",
              "      <td>0.0</td>\n",
              "      <td>0.0</td>\n",
              "      <td>0.0</td>\n",
              "      <td>0.0</td>\n",
              "      <td>1.0</td>\n",
              "      <td>0.0</td>\n",
              "      <td>0.0</td>\n",
              "      <td>0.0</td>\n",
              "      <td>1.0</td>\n",
              "      <td>0.0</td>\n",
              "      <td>1.0</td>\n",
              "      <td>0.0</td>\n",
              "      <td>1.0</td>\n",
              "      <td>0.0</td>\n",
              "      <td>0.0</td>\n",
              "      <td>0.0</td>\n",
              "      <td>0.0</td>\n",
              "      <td>0.0</td>\n",
              "      <td>0.0</td>\n",
              "      <td>0.0</td>\n",
              "      <td>0.0</td>\n",
              "    </tr>\n",
              "    <tr>\n",
              "      <th>2</th>\n",
              "      <td>0.0</td>\n",
              "      <td>0.0</td>\n",
              "      <td>1.0</td>\n",
              "      <td>0.0</td>\n",
              "      <td>0.0</td>\n",
              "      <td>1.0</td>\n",
              "      <td>0.0</td>\n",
              "      <td>0.0</td>\n",
              "      <td>1.0</td>\n",
              "      <td>0.0</td>\n",
              "      <td>0.0</td>\n",
              "      <td>0.0</td>\n",
              "      <td>0.0</td>\n",
              "      <td>1.0</td>\n",
              "      <td>0.0</td>\n",
              "      <td>1.0</td>\n",
              "      <td>1.0</td>\n",
              "      <td>0.0</td>\n",
              "      <td>0.0</td>\n",
              "      <td>0.0</td>\n",
              "      <td>0.0</td>\n",
              "      <td>0.0</td>\n",
              "      <td>0.0</td>\n",
              "      <td>1.0</td>\n",
              "      <td>0.0</td>\n",
              "      <td>0.0</td>\n",
              "      <td>0.0</td>\n",
              "      <td>0.0</td>\n",
              "      <td>0.0</td>\n",
              "      <td>0.0</td>\n",
              "      <td>0.0</td>\n",
              "      <td>0.0</td>\n",
              "      <td>0.0</td>\n",
              "      <td>0.0</td>\n",
              "      <td>0.0</td>\n",
              "      <td>0.0</td>\n",
              "      <td>1.0</td>\n",
              "      <td>1.0</td>\n",
              "      <td>0.0</td>\n",
              "      <td>0.0</td>\n",
              "      <td>0.0</td>\n",
              "      <td>0.0</td>\n",
              "      <td>0.0</td>\n",
              "      <td>0.0</td>\n",
              "      <td>0.0</td>\n",
              "      <td>0.0</td>\n",
              "      <td>0.0</td>\n",
              "      <td>0.0</td>\n",
              "      <td>0.0</td>\n",
              "      <td>1.0</td>\n",
              "      <td>0.0</td>\n",
              "      <td>1.0</td>\n",
              "      <td>0.0</td>\n",
              "    </tr>\n",
              "    <tr>\n",
              "      <th>3</th>\n",
              "      <td>1.0</td>\n",
              "      <td>1.0</td>\n",
              "      <td>0.0</td>\n",
              "      <td>0.0</td>\n",
              "      <td>0.0</td>\n",
              "      <td>0.0</td>\n",
              "      <td>1.0</td>\n",
              "      <td>0.0</td>\n",
              "      <td>1.0</td>\n",
              "      <td>0.0</td>\n",
              "      <td>0.0</td>\n",
              "      <td>0.0</td>\n",
              "      <td>0.0</td>\n",
              "      <td>1.0</td>\n",
              "      <td>0.0</td>\n",
              "      <td>1.0</td>\n",
              "      <td>1.0</td>\n",
              "      <td>0.0</td>\n",
              "      <td>0.0</td>\n",
              "      <td>1.0</td>\n",
              "      <td>0.0</td>\n",
              "      <td>0.0</td>\n",
              "      <td>1.0</td>\n",
              "      <td>1.0</td>\n",
              "      <td>0.0</td>\n",
              "      <td>0.0</td>\n",
              "      <td>0.0</td>\n",
              "      <td>0.0</td>\n",
              "      <td>0.0</td>\n",
              "      <td>0.0</td>\n",
              "      <td>0.0</td>\n",
              "      <td>0.0</td>\n",
              "      <td>1.0</td>\n",
              "      <td>0.0</td>\n",
              "      <td>0.0</td>\n",
              "      <td>0.0</td>\n",
              "      <td>0.0</td>\n",
              "      <td>0.0</td>\n",
              "      <td>0.0</td>\n",
              "      <td>0.0</td>\n",
              "      <td>0.0</td>\n",
              "      <td>1.0</td>\n",
              "      <td>0.0</td>\n",
              "      <td>0.0</td>\n",
              "      <td>1.0</td>\n",
              "      <td>0.0</td>\n",
              "      <td>0.0</td>\n",
              "      <td>0.0</td>\n",
              "      <td>0.0</td>\n",
              "      <td>0.0</td>\n",
              "      <td>0.0</td>\n",
              "      <td>0.0</td>\n",
              "      <td>0.0</td>\n",
              "    </tr>\n",
              "    <tr>\n",
              "      <th>4</th>\n",
              "      <td>1.0</td>\n",
              "      <td>0.0</td>\n",
              "      <td>0.0</td>\n",
              "      <td>0.0</td>\n",
              "      <td>0.0</td>\n",
              "      <td>1.0</td>\n",
              "      <td>0.0</td>\n",
              "      <td>0.0</td>\n",
              "      <td>1.0</td>\n",
              "      <td>0.0</td>\n",
              "      <td>0.0</td>\n",
              "      <td>0.0</td>\n",
              "      <td>0.0</td>\n",
              "      <td>1.0</td>\n",
              "      <td>0.0</td>\n",
              "      <td>1.0</td>\n",
              "      <td>1.0</td>\n",
              "      <td>0.0</td>\n",
              "      <td>0.0</td>\n",
              "      <td>0.0</td>\n",
              "      <td>0.0</td>\n",
              "      <td>0.0</td>\n",
              "      <td>0.0</td>\n",
              "      <td>0.0</td>\n",
              "      <td>0.0</td>\n",
              "      <td>0.0</td>\n",
              "      <td>0.0</td>\n",
              "      <td>0.0</td>\n",
              "      <td>1.0</td>\n",
              "      <td>0.0</td>\n",
              "      <td>0.0</td>\n",
              "      <td>0.0</td>\n",
              "      <td>0.0</td>\n",
              "      <td>0.0</td>\n",
              "      <td>0.0</td>\n",
              "      <td>0.0</td>\n",
              "      <td>1.0</td>\n",
              "      <td>1.0</td>\n",
              "      <td>0.0</td>\n",
              "      <td>0.0</td>\n",
              "      <td>0.0</td>\n",
              "      <td>1.0</td>\n",
              "      <td>0.0</td>\n",
              "      <td>0.0</td>\n",
              "      <td>1.0</td>\n",
              "      <td>1.0</td>\n",
              "      <td>0.0</td>\n",
              "      <td>0.0</td>\n",
              "      <td>0.0</td>\n",
              "      <td>0.0</td>\n",
              "      <td>1.0</td>\n",
              "      <td>1.0</td>\n",
              "      <td>0.0</td>\n",
              "    </tr>\n",
              "  </tbody>\n",
              "</table>\n",
              "</div>"
            ],
            "text/plain": [
              "   (ge_M,)  (cst_MOBC,)  (cst_OBC,)  ...  (tt_Small,)  (atd_Good,)  (atd_Poor,)\n",
              "0      0.0          0.0         0.0  ...          1.0          1.0          0.0\n",
              "1      1.0          0.0         1.0  ...          0.0          0.0          0.0\n",
              "2      0.0          0.0         1.0  ...          0.0          1.0          0.0\n",
              "3      1.0          1.0         0.0  ...          0.0          0.0          0.0\n",
              "4      1.0          0.0         0.0  ...          1.0          1.0          0.0\n",
              "\n",
              "[5 rows x 53 columns]"
            ]
          },
          "metadata": {
            "tags": []
          },
          "execution_count": 163
        }
      ]
    },
    {
      "cell_type": "markdown",
      "metadata": {
        "id": "epzt3oRUk1IE"
      },
      "source": [
        "#**Modelling**"
      ]
    },
    {
      "cell_type": "code",
      "metadata": {
        "id": "TTHq3FGKzHqM"
      },
      "source": [
        "from sklearn.model_selection import train_test_split\n",
        "x_train,x_test,y_train,y_test=train_test_split(df,y,test_size=0.3,random_state=0)"
      ],
      "execution_count": 164,
      "outputs": []
    },
    {
      "cell_type": "code",
      "metadata": {
        "id": "fzJZ0upJzOAD"
      },
      "source": [
        "from sklearn.preprocessing import StandardScaler\n",
        "sc=StandardScaler()\n",
        "sc.fit(x_train)\n",
        "x_train_std=sc.transform(x_train)\n",
        "x_test_std=sc.transform(x_test)"
      ],
      "execution_count": 165,
      "outputs": []
    },
    {
      "cell_type": "markdown",
      "metadata": {
        "id": "R742VU1M4aRV"
      },
      "source": [
        "##KNN Pediction##"
      ]
    },
    {
      "cell_type": "code",
      "metadata": {
        "id": "8Y6BzRLy0Hir"
      },
      "source": [
        "from sklearn.neighbors import KNeighborsClassifier\n",
        "clf1=KNeighborsClassifier(n_neighbors=3)\n",
        "clf1.fit(x_train,y_train)\n",
        "y_pred_train=clf1.predict(x_train)\n",
        "y_pred_test1=clf1.predict(x_test)"
      ],
      "execution_count": 166,
      "outputs": []
    },
    {
      "cell_type": "code",
      "metadata": {
        "colab": {
          "base_uri": "https://localhost:8080/"
        },
        "id": "BwlJGO8D0dsb",
        "outputId": "c8bb8c5b-8c0b-4db9-9d52-510cb70fa491"
      },
      "source": [
        "from sklearn.metrics import accuracy_score\n",
        "train_acc=accuracy_score(y_train,y_pred_train)\n",
        "test_acc=accuracy_score(y_test,y_pred_test1)\n",
        "print('Training Accuracy: ',train_acc)\n",
        "print('Testing Accuracy: ',test_acc)"
      ],
      "execution_count": 167,
      "outputs": [
        {
          "output_type": "stream",
          "text": [
            "Training Accuracy:  0.7362637362637363\n",
            "Testing Accuracy:  0.525\n"
          ],
          "name": "stdout"
        }
      ]
    },
    {
      "cell_type": "markdown",
      "metadata": {
        "id": "cLHihzZK4qyq"
      },
      "source": [
        "##SVC Pediction##"
      ]
    },
    {
      "cell_type": "code",
      "metadata": {
        "id": "e409HCUP1PsT"
      },
      "source": [
        "from sklearn.svm import SVC\n",
        "clf2=SVC(C=1,kernel='rbf')\n",
        "clf2.fit(x_train,y_train)\n",
        "y_pred_train=clf2.predict(x_train)\n",
        "y_pred_test2=clf2.predict(x_test)"
      ],
      "execution_count": 168,
      "outputs": []
    },
    {
      "cell_type": "code",
      "metadata": {
        "colab": {
          "base_uri": "https://localhost:8080/"
        },
        "id": "vKwYyd9f1b20",
        "outputId": "5c22a25e-3e2b-497f-e5f1-7d7b39ee82c6"
      },
      "source": [
        "train_acc=accuracy_score(y_train,y_pred_train)\n",
        "test_acc=accuracy_score(y_test,y_pred_test2)\n",
        "print('Training Accuracy: ',train_acc)\n",
        "print('Testing Accuracy: ',test_acc)"
      ],
      "execution_count": 169,
      "outputs": [
        {
          "output_type": "stream",
          "text": [
            "Training Accuracy:  0.8901098901098901\n",
            "Testing Accuracy:  0.525\n"
          ],
          "name": "stdout"
        }
      ]
    },
    {
      "cell_type": "markdown",
      "metadata": {
        "id": "3RHO6pEn4yoC"
      },
      "source": [
        "##Random Forest Pediction##"
      ]
    },
    {
      "cell_type": "code",
      "metadata": {
        "id": "-mCHIFVw2Egd"
      },
      "source": [
        "from sklearn.ensemble import RandomForestClassifier\n",
        "clf3=RandomForestClassifier(n_estimators=100,max_depth=5)\n",
        "clf3.fit(x_train,y_train)\n",
        "y_pred_train=clf3.predict(x_train)\n",
        "y_pred_test3=clf3.predict(x_test)"
      ],
      "execution_count": 170,
      "outputs": []
    },
    {
      "cell_type": "code",
      "metadata": {
        "colab": {
          "base_uri": "https://localhost:8080/"
        },
        "id": "PNvjPU0m2QJl",
        "outputId": "730b33cf-6b51-4456-a386-855ca9602b6e"
      },
      "source": [
        "train_acc=accuracy_score(y_train,y_pred_train)\n",
        "test_acc=accuracy_score(y_test,y_pred_test3)\n",
        "print('Training Accuracy: ',train_acc)\n",
        "print('Testing Accuracy: ',test_acc)"
      ],
      "execution_count": 171,
      "outputs": [
        {
          "output_type": "stream",
          "text": [
            "Training Accuracy:  0.9340659340659341\n",
            "Testing Accuracy:  0.525\n"
          ],
          "name": "stdout"
        }
      ]
    },
    {
      "cell_type": "markdown",
      "metadata": {
        "id": "9O3slUWF6ML6"
      },
      "source": [
        "##Evaluated score by cross-validation##"
      ]
    },
    {
      "cell_type": "code",
      "metadata": {
        "id": "k5ulRrYoXdsl"
      },
      "source": [
        "from sklearn.model_selection import cross_val_score\n",
        "import time"
      ],
      "execution_count": 172,
      "outputs": []
    },
    {
      "cell_type": "code",
      "metadata": {
        "colab": {
          "base_uri": "https://localhost:8080/"
        },
        "id": "QGebT6oDXk5Z",
        "outputId": "c53f03e6-d96f-4f34-e5f8-1971288fc013"
      },
      "source": [
        "from sklearn.neighbors import KNeighborsClassifier\n",
        "knn = KNeighborsClassifier()\n",
        "start = time.time()\n",
        "cross_knn = cross_val_score(knn,df.values,y,cv=3)\n",
        "end = time.time()\n",
        "print(cross_knn)\n",
        "print('Execution time of knn:           ',end-start)\n",
        "print('Mean validation accuracy of knn: ',(cross_knn.sum())/3)"
      ],
      "execution_count": 173,
      "outputs": [
        {
          "output_type": "stream",
          "text": [
            "[0.5        0.45454545 0.62790698]\n",
            "Execution time of knn:            0.01347661018371582\n",
            "Mean validation accuracy of knn:  0.5274841437632135\n"
          ],
          "name": "stdout"
        }
      ]
    },
    {
      "cell_type": "code",
      "metadata": {
        "colab": {
          "base_uri": "https://localhost:8080/"
        },
        "id": "pWRNrpn_YXop",
        "outputId": "79261e25-7a84-47d7-fd87-51925fe1db09"
      },
      "source": [
        "from sklearn.svm import SVC\n",
        "svm_obj = SVC()  \n",
        "start = time.time()\n",
        "cross_svm = cross_val_score(svm_obj,df.values,y.ravel(),cv=3)\n",
        "end = time.time()\n",
        "print(cross_svm)\n",
        "print('Execution time of svm:           ',end-start)\n",
        "print('Mean validation accuracy of svm: ',(cross_svm.sum())/3)"
      ],
      "execution_count": 174,
      "outputs": [
        {
          "output_type": "stream",
          "text": [
            "[0.5        0.52272727 0.62790698]\n",
            "Execution time of svm:            0.01358938217163086\n",
            "Mean validation accuracy of svm:  0.5502114164904862\n"
          ],
          "name": "stdout"
        }
      ]
    },
    {
      "cell_type": "code",
      "metadata": {
        "colab": {
          "base_uri": "https://localhost:8080/"
        },
        "id": "u4vAnrCAZj4A",
        "outputId": "54c910ba-5d22-4338-c1b6-b4026aea8943"
      },
      "source": [
        "from sklearn.ensemble import RandomForestClassifier\n",
        "rfc = RandomForestClassifier()\n",
        "start = time.time()\n",
        "cross_rfc = cross_val_score(rfc,df.values,y,cv=3)\n",
        "end = time.time()\n",
        "print(cross_rfc)\n",
        "print('Execution time of knn:           ',end-start)\n",
        "print('Mean validation accuracy of knn: ',(cross_rfc.sum())/3)"
      ],
      "execution_count": 175,
      "outputs": [
        {
          "output_type": "stream",
          "text": [
            "[0.52272727 0.52272727 0.62790698]\n",
            "Execution time of knn:            0.5270061492919922\n",
            "Mean validation accuracy of knn:  0.5577871740662438\n"
          ],
          "name": "stdout"
        }
      ]
    },
    {
      "cell_type": "markdown",
      "metadata": {
        "id": "glhYhJJOlIf5"
      },
      "source": [
        "#**Hyperparemeter Tuning**"
      ]
    },
    {
      "cell_type": "code",
      "metadata": {
        "id": "KWgu7Xaha8XL"
      },
      "source": [
        "from sklearn.model_selection import RandomizedSearchCV"
      ],
      "execution_count": 176,
      "outputs": []
    },
    {
      "cell_type": "code",
      "metadata": {
        "id": "ISGXeR49bDw4"
      },
      "source": [
        "########### KNN #############\n",
        "param_knn = {\n",
        "    'n_neighbors': list(range(1,10)),\n",
        "    'leaf_size' : list(range(1,10)),\n",
        "    'p': [1,2]\n",
        "}"
      ],
      "execution_count": 193,
      "outputs": []
    },
    {
      "cell_type": "code",
      "metadata": {
        "colab": {
          "base_uri": "https://localhost:8080/"
        },
        "id": "x7pxKMVybNlB",
        "outputId": "f08656ba-4d14-4f8d-b614-3abb05f055a0"
      },
      "source": [
        "model_tuned_knn = RandomizedSearchCV(knn,param_knn,cv=3)\n",
        "model_tuned_knn.fit(x_train,y_train)"
      ],
      "execution_count": 195,
      "outputs": [
        {
          "output_type": "execute_result",
          "data": {
            "text/plain": [
              "RandomizedSearchCV(cv=3, error_score=nan,\n",
              "                   estimator=KNeighborsClassifier(algorithm='auto',\n",
              "                                                  leaf_size=30,\n",
              "                                                  metric='minkowski',\n",
              "                                                  metric_params=None,\n",
              "                                                  n_jobs=None, n_neighbors=5,\n",
              "                                                  p=2, weights='uniform'),\n",
              "                   iid='deprecated', n_iter=10, n_jobs=None,\n",
              "                   param_distributions={'leaf_size': [1, 2, 3, 4, 5, 6, 7, 8,\n",
              "                                                      9],\n",
              "                                        'n_neighbors': [1, 2, 3, 4, 5, 6, 7, 8,\n",
              "                                                        9],\n",
              "                                        'p': [1, 2]},\n",
              "                   pre_dispatch='2*n_jobs', random_state=None, refit=True,\n",
              "                   return_train_score=False, scoring=None, verbose=0)"
            ]
          },
          "metadata": {
            "tags": []
          },
          "execution_count": 195
        }
      ]
    },
    {
      "cell_type": "code",
      "metadata": {
        "colab": {
          "base_uri": "https://localhost:8080/"
        },
        "id": "ZOWorP5FbUaJ",
        "outputId": "b86f533d-78a0-4dce-f733-fb97b89ae8f4"
      },
      "source": [
        "print(model_tuned_knn.best_params_)\n",
        "print('mean vald accuracy ',model_tuned_knn.best_score_)"
      ],
      "execution_count": 196,
      "outputs": [
        {
          "output_type": "stream",
          "text": [
            "{'p': 2, 'n_neighbors': 8, 'leaf_size': 4}\n",
            "mean vald accuracy  0.6483870967741935\n"
          ],
          "name": "stdout"
        }
      ]
    },
    {
      "cell_type": "code",
      "metadata": {
        "colab": {
          "base_uri": "https://localhost:8080/"
        },
        "id": "Ns27BxyY1NRl",
        "outputId": "014a610b-85a3-497b-fc42-2d571efe52ef"
      },
      "source": [
        "model_tuned_knn = RandomizedSearchCV(knn,param_knn,cv=3)\n",
        "model_tuned_knn.fit(x_test,y_test)\n",
        "print(model_tuned_knn.best_params_)\n",
        "print('mean vald accuracy ',model_tuned_knn.best_score_)"
      ],
      "execution_count": 197,
      "outputs": [
        {
          "output_type": "stream",
          "text": [
            "{'p': 2, 'n_neighbors': 3, 'leaf_size': 2}\n",
            "mean vald accuracy  0.553113553113553\n"
          ],
          "name": "stdout"
        }
      ]
    },
    {
      "cell_type": "code",
      "metadata": {
        "id": "UHX4ghuubiHJ"
      },
      "source": [
        "########### SVC #############\n",
        "param_svm = {\n",
        "    'C': [0.05,0.1,0.5,1,2,3,5,10],\n",
        "    'kernel' : ['linear','poly','rbf','sigmoid'],\n",
        "    'gamma': ['scale','auto']\n",
        "}"
      ],
      "execution_count": 199,
      "outputs": []
    },
    {
      "cell_type": "code",
      "metadata": {
        "colab": {
          "base_uri": "https://localhost:8080/"
        },
        "id": "YXpjuHCAbr2q",
        "outputId": "3cc982bf-2b6a-4906-fb7a-eee97eb3c8e6"
      },
      "source": [
        "model_tuned_svm = RandomizedSearchCV(svm_obj,param_svm,cv=3,random_state=42)\n",
        "model_tuned_svm.fit(x_train,y_train)"
      ],
      "execution_count": 205,
      "outputs": [
        {
          "output_type": "execute_result",
          "data": {
            "text/plain": [
              "RandomizedSearchCV(cv=3, error_score=nan,\n",
              "                   estimator=SVC(C=1.0, break_ties=False, cache_size=200,\n",
              "                                 class_weight=None, coef0=0.0,\n",
              "                                 decision_function_shape='ovr', degree=3,\n",
              "                                 gamma='scale', kernel='rbf', max_iter=-1,\n",
              "                                 probability=False, random_state=None,\n",
              "                                 shrinking=True, tol=0.001, verbose=False),\n",
              "                   iid='deprecated', n_iter=10, n_jobs=None,\n",
              "                   param_distributions={'C': [0.05, 0.1, 0.5, 1, 2, 3, 5, 10],\n",
              "                                        'gamma': ['scale', 'auto'],\n",
              "                                        'kernel': ['linear', 'poly', 'rbf',\n",
              "                                                   'sigmoid']},\n",
              "                   pre_dispatch='2*n_jobs', random_state=42, refit=True,\n",
              "                   return_train_score=False, scoring=None, verbose=0)"
            ]
          },
          "metadata": {
            "tags": []
          },
          "execution_count": 205
        }
      ]
    },
    {
      "cell_type": "code",
      "metadata": {
        "colab": {
          "base_uri": "https://localhost:8080/"
        },
        "id": "5dS8Grr2bzYQ",
        "outputId": "65f3ceaf-5ee4-47db-e308-54d463c8dc72"
      },
      "source": [
        "print(model_tuned_svm.best_params_)\n",
        "print('mean vald accuracy of SVM ',model_tuned_svm.best_score_)"
      ],
      "execution_count": 206,
      "outputs": [
        {
          "output_type": "stream",
          "text": [
            "{'kernel': 'linear', 'gamma': 'auto', 'C': 0.1}\n",
            "mean vald accuracy of SVM  0.6598566308243727\n"
          ],
          "name": "stdout"
        }
      ]
    },
    {
      "cell_type": "code",
      "metadata": {
        "colab": {
          "base_uri": "https://localhost:8080/"
        },
        "id": "onMaB38j1sBK",
        "outputId": "88ea4a69-7a26-4ad3-e8bd-1e9086910923"
      },
      "source": [
        "model_tuned_svm = RandomizedSearchCV(svm_obj,param_svm,cv=3,random_state=42)\n",
        "model_tuned_svm.fit(x_test,y_test)\n",
        "print(model_tuned_svm.best_params_)\n",
        "print('mean vald accuracy of SVM ',model_tuned_svm.best_score_)"
      ],
      "execution_count": 207,
      "outputs": [
        {
          "output_type": "stream",
          "text": [
            "{'kernel': 'linear', 'gamma': 'auto', 'C': 0.1}\n",
            "mean vald accuracy of SVM  0.5036630036630036\n"
          ],
          "name": "stdout"
        }
      ]
    },
    {
      "cell_type": "code",
      "metadata": {
        "id": "7EwAaovbcH85"
      },
      "source": [
        "########### RFC #############\n",
        "param_rfc = {\n",
        "    'n_estimators': [10,50,100,150,200],\n",
        "    'max_features' : ['auto', 'sqrt'],\n",
        "    'max_depth': [5,10,15]\n",
        "}"
      ],
      "execution_count": 183,
      "outputs": []
    },
    {
      "cell_type": "code",
      "metadata": {
        "colab": {
          "base_uri": "https://localhost:8080/"
        },
        "id": "EEGEI8KBcMfx",
        "outputId": "4ecfc613-35f9-4ffe-88cb-430f6945fa0c"
      },
      "source": [
        "model_tuned_rfc = RandomizedSearchCV(rfc,param_rfc,cv=3,random_state=42)\n",
        "model_tuned_rfc.fit(x_train,y_train)"
      ],
      "execution_count": 209,
      "outputs": [
        {
          "output_type": "execute_result",
          "data": {
            "text/plain": [
              "RandomizedSearchCV(cv=3, error_score=nan,\n",
              "                   estimator=RandomForestClassifier(bootstrap=True,\n",
              "                                                    ccp_alpha=0.0,\n",
              "                                                    class_weight=None,\n",
              "                                                    criterion='gini',\n",
              "                                                    max_depth=None,\n",
              "                                                    max_features='auto',\n",
              "                                                    max_leaf_nodes=None,\n",
              "                                                    max_samples=None,\n",
              "                                                    min_impurity_decrease=0.0,\n",
              "                                                    min_impurity_split=None,\n",
              "                                                    min_samples_leaf=1,\n",
              "                                                    min_samples_split=2,\n",
              "                                                    min_weight_fraction_leaf=0.0,\n",
              "                                                    n_estimators=100,\n",
              "                                                    n_jobs=None,\n",
              "                                                    oob_score=False,\n",
              "                                                    random_state=None,\n",
              "                                                    verbose=0,\n",
              "                                                    warm_start=False),\n",
              "                   iid='deprecated', n_iter=10, n_jobs=None,\n",
              "                   param_distributions={'max_depth': [5, 10, 15],\n",
              "                                        'max_features': ['auto', 'sqrt'],\n",
              "                                        'n_estimators': [10, 50, 100, 150,\n",
              "                                                         200]},\n",
              "                   pre_dispatch='2*n_jobs', random_state=42, refit=True,\n",
              "                   return_train_score=False, scoring=None, verbose=0)"
            ]
          },
          "metadata": {
            "tags": []
          },
          "execution_count": 209
        }
      ]
    },
    {
      "cell_type": "code",
      "metadata": {
        "colab": {
          "base_uri": "https://localhost:8080/"
        },
        "id": "JsSFrqwfcPQZ",
        "outputId": "d925a49d-8b81-4315-aafb-846dfda4ba71"
      },
      "source": [
        "print(model_tuned_rfc.best_params_)\n",
        "print('mean vald accuracy of Random Forest ',model_tuned_rfc.best_score_)"
      ],
      "execution_count": 210,
      "outputs": [
        {
          "output_type": "stream",
          "text": [
            "{'n_estimators': 150, 'max_features': 'sqrt', 'max_depth': 5}\n",
            "mean vald accuracy of Random Forest  0.6924731182795698\n"
          ],
          "name": "stdout"
        }
      ]
    },
    {
      "cell_type": "code",
      "metadata": {
        "colab": {
          "base_uri": "https://localhost:8080/"
        },
        "id": "seqXZ5OM2PTB",
        "outputId": "72cb91d5-d79f-467c-cc57-baeb01c83ba7"
      },
      "source": [
        "model_tuned_rfc = RandomizedSearchCV(rfc,param_rfc,cv=3,random_state=42)\n",
        "model_tuned_rfc.fit(x_test,y_test)\n",
        "print(model_tuned_rfc.best_params_)\n",
        "print('mean vald accuracy of Random Forest ',model_tuned_rfc.best_score_)"
      ],
      "execution_count": 211,
      "outputs": [
        {
          "output_type": "stream",
          "text": [
            "{'n_estimators': 150, 'max_features': 'auto', 'max_depth': 15}\n",
            "mean vald accuracy of Random Forest  0.576923076923077\n"
          ],
          "name": "stdout"
        }
      ]
    },
    {
      "cell_type": "markdown",
      "metadata": {
        "id": "7uI5yASx7mgM"
      },
      "source": [
        "#**CONFUSION MATRIX**#"
      ]
    },
    {
      "cell_type": "code",
      "metadata": {
        "id": "mBx5_pz07lO-"
      },
      "source": [
        "from sklearn.metrics import plot_confusion_matrix"
      ],
      "execution_count": 186,
      "outputs": []
    },
    {
      "cell_type": "code",
      "metadata": {
        "colab": {
          "base_uri": "https://localhost:8080/"
        },
        "id": "hUNlubg1vSF3",
        "outputId": "69c27d74-d31e-426a-9e2f-cd093b65a99f"
      },
      "source": [
        "from sklearn.metrics import classification_report\n",
        "cr=classification_report(y_test,y_pred_test1)\n",
        "print(cr)"
      ],
      "execution_count": 187,
      "outputs": [
        {
          "output_type": "stream",
          "text": [
            "              precision    recall  f1-score   support\n",
            "\n",
            "           0       0.50      0.50      0.50         4\n",
            "           1       0.53      0.59      0.56        17\n",
            "           2       0.50      0.67      0.57         6\n",
            "           3       0.56      0.38      0.45        13\n",
            "\n",
            "    accuracy                           0.53        40\n",
            "   macro avg       0.52      0.53      0.52        40\n",
            "weighted avg       0.53      0.53      0.52        40\n",
            "\n"
          ],
          "name": "stdout"
        }
      ]
    },
    {
      "cell_type": "code",
      "metadata": {
        "colab": {
          "base_uri": "https://localhost:8080/",
          "height": 314
        },
        "id": "FeCIcAwL70ws",
        "outputId": "392c3b6d-2c2d-4f3b-ffb1-f04c59d9ce09"
      },
      "source": [
        "print(\"confusion matrix for KNN\")\n",
        "plot_confusion_matrix(model_tuned_knn,df.values,y.ravel())"
      ],
      "execution_count": 188,
      "outputs": [
        {
          "output_type": "stream",
          "text": [
            "confusion matrix for KNN\n"
          ],
          "name": "stdout"
        },
        {
          "output_type": "execute_result",
          "data": {
            "text/plain": [
              "<sklearn.metrics._plot.confusion_matrix.ConfusionMatrixDisplay at 0x7fc485525ed0>"
            ]
          },
          "metadata": {
            "tags": []
          },
          "execution_count": 188
        },
        {
          "output_type": "display_data",
          "data": {
            "image/png": "[encoded data removed]",
            "text/plain": [
              "<Figure size 432x288 with 2 Axes>"
            ]
          },
          "metadata": {
            "tags": [],
            "needs_background": "light"
          }
        }
      ]
    },
    {
      "cell_type": "code",
      "metadata": {
        "colab": {
          "base_uri": "https://localhost:8080/"
        },
        "id": "tVMAIH6xvV76",
        "outputId": "ad1893a7-cda2-4568-faf9-9b0c54c99406"
      },
      "source": [
        "cr=classification_report(y_test,y_pred_test2)\n",
        "print(cr)"
      ],
      "execution_count": 189,
      "outputs": [
        {
          "output_type": "stream",
          "text": [
            "              precision    recall  f1-score   support\n",
            "\n",
            "           0       0.00      0.00      0.00         4\n",
            "           1       0.54      0.76      0.63        17\n",
            "           2       1.00      0.33      0.50         6\n",
            "           3       0.43      0.46      0.44        13\n",
            "\n",
            "    accuracy                           0.53        40\n",
            "   macro avg       0.49      0.39      0.39        40\n",
            "weighted avg       0.52      0.53      0.49        40\n",
            "\n"
          ],
          "name": "stdout"
        },
        {
          "output_type": "stream",
          "text": [
            "/usr/local/lib/python3.7/dist-packages/sklearn/metrics/_classification.py:1272: UndefinedMetricWarning: Precision and F-score are ill-defined and being set to 0.0 in labels with no predicted samples. Use `zero_division` parameter to control this behavior.\n",
            "  _warn_prf(average, modifier, msg_start, len(result))\n"
          ],
          "name": "stderr"
        }
      ]
    },
    {
      "cell_type": "code",
      "metadata": {
        "colab": {
          "base_uri": "https://localhost:8080/",
          "height": 314
        },
        "id": "hPGqLlZl8JOy",
        "outputId": "a507ddda-bb24-4e3f-e7c5-a3a4c0e0bc94"
      },
      "source": [
        "print(\"confusion matrix for SVM\")\n",
        "plot_confusion_matrix(model_tuned_svm,df.values,y.ravel())"
      ],
      "execution_count": 190,
      "outputs": [
        {
          "output_type": "stream",
          "text": [
            "confusion matrix for SVM\n"
          ],
          "name": "stdout"
        },
        {
          "output_type": "execute_result",
          "data": {
            "text/plain": [
              "<sklearn.metrics._plot.confusion_matrix.ConfusionMatrixDisplay at 0x7fc4811e7890>"
            ]
          },
          "metadata": {
            "tags": []
          },
          "execution_count": 190
        },
        {
          "output_type": "display_data",
          "data": {
            "image/png": "[encoded data removed]",
            "text/plain": [
              "<Figure size 432x288 with 2 Axes>"
            ]
          },
          "metadata": {
            "tags": [],
            "needs_background": "light"
          }
        }
      ]
    },
    {
      "cell_type": "code",
      "metadata": {
        "colab": {
          "base_uri": "https://localhost:8080/"
        },
        "id": "0VA1IIWZvZTz",
        "outputId": "9b545d98-668d-4a19-dd92-0f34bac82744"
      },
      "source": [
        "cr=classification_report(y_test,y_pred_test3)\n",
        "print(cr)"
      ],
      "execution_count": 191,
      "outputs": [
        {
          "output_type": "stream",
          "text": [
            "              precision    recall  f1-score   support\n",
            "\n",
            "           0       0.00      0.00      0.00         4\n",
            "           1       0.54      0.76      0.63        17\n",
            "           2       1.00      0.17      0.29         6\n",
            "           3       0.47      0.54      0.50        13\n",
            "\n",
            "    accuracy                           0.53        40\n",
            "   macro avg       0.50      0.37      0.35        40\n",
            "weighted avg       0.53      0.53      0.47        40\n",
            "\n"
          ],
          "name": "stdout"
        },
        {
          "output_type": "stream",
          "text": [
            "/usr/local/lib/python3.7/dist-packages/sklearn/metrics/_classification.py:1272: UndefinedMetricWarning: Precision and F-score are ill-defined and being set to 0.0 in labels with no predicted samples. Use `zero_division` parameter to control this behavior.\n",
            "  _warn_prf(average, modifier, msg_start, len(result))\n"
          ],
          "name": "stderr"
        }
      ]
    },
    {
      "cell_type": "code",
      "metadata": {
        "colab": {
          "base_uri": "https://localhost:8080/",
          "height": 314
        },
        "id": "i7qSIJ6c8IrK",
        "outputId": "2f350ee5-b35a-41e0-f372-61f5da9b2448"
      },
      "source": [
        "print(\"confusion matrix for RF\")\n",
        "plot_confusion_matrix(model_tuned_rfc,df.values,y.ravel())"
      ],
      "execution_count": 192,
      "outputs": [
        {
          "output_type": "stream",
          "text": [
            "confusion matrix for RF\n"
          ],
          "name": "stdout"
        },
        {
          "output_type": "execute_result",
          "data": {
            "text/plain": [
              "<sklearn.metrics._plot.confusion_matrix.ConfusionMatrixDisplay at 0x7fc4811d93d0>"
            ]
          },
          "metadata": {
            "tags": []
          },
          "execution_count": 192
        },
        {
          "output_type": "display_data",
          "data": {
            "image/png": "[encoded data removed]",
            "text/plain": [
              "<Figure size 432x288 with 2 Axes>"
            ]
          },
          "metadata": {
            "tags": [],
            "needs_background": "light"
          }
        }
      ]
    }
  ]
}